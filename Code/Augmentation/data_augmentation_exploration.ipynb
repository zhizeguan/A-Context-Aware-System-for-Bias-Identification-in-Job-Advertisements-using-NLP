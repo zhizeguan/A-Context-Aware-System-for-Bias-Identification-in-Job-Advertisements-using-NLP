{
 "cells": [
  {
   "cell_type": "code",
   "execution_count": 164,
   "id": "81db601e",
   "metadata": {},
   "outputs": [],
   "source": [
    "import pandas as pd\n",
    "from transformers import pipeline\n",
    "import nltk\n",
    "from nltk.corpus import stopwords\n",
    "from transformers import pipeline, set_seed\n",
    "import random\n",
    "from flashtext import KeywordProcessor\n",
    "from ast import literal_eval\n",
    "import re"
   ]
  },
  {
   "cell_type": "code",
   "execution_count": 11,
   "id": "6ea582d8",
   "metadata": {},
   "outputs": [],
   "source": [
    "sentence1 = \"Must be an extrovert with an innate quality of easily connecting with people.\"\n",
    "sentence2 = \"You're self-motivated and decisive, but willing to make changes with minimal grumbling when the client demands it.\"\n",
    "sentence3 = \"Ideal candidates will be caring, compassinate, adaptable, flexible, commited to high standards of care and possess excelent communication skills both verbal and written.\"\n",
    "sentence4 = \"To be considered for this position you must be energetic, friendly, compassionat and detail oriented.\"\n",
    "sentence5 = \"We are looking for a young and driven candidate who can bring innovation into the organization.\"\n",
    "sentence6 = \"Are you the master of technology and passionate person we are looking for?\""
   ]
  },
  {
   "cell_type": "markdown",
   "id": "fe5356ac",
   "metadata": {},
   "source": [
    "### Use BERT for masking arbitrary words"
   ]
  },
  {
   "cell_type": "code",
   "execution_count": 3,
   "id": "f34c01e7",
   "metadata": {},
   "outputs": [],
   "source": [
    "stop_words = set(stopwords.words('english'))"
   ]
  },
  {
   "cell_type": "code",
   "execution_count": 66,
   "id": "8e35343f",
   "metadata": {},
   "outputs": [
    {
     "name": "stderr",
     "output_type": "stream",
     "text": [
      "Some weights of the model checkpoint at bert-base-uncased were not used when initializing BertForMaskedLM: ['cls.seq_relationship.bias', 'cls.seq_relationship.weight']\n",
      "- This IS expected if you are initializing BertForMaskedLM from the checkpoint of a model trained on another task or with another architecture (e.g. initializing a BertForSequenceClassification model from a BertForPreTraining model).\n",
      "- This IS NOT expected if you are initializing BertForMaskedLM from the checkpoint of a model that you expect to be exactly identical (initializing a BertForSequenceClassification model from a BertForSequenceClassification model).\n"
     ]
    }
   ],
   "source": [
    "model = pipeline('fill-mask', model='bert-base-uncased')"
   ]
  },
  {
   "cell_type": "code",
   "execution_count": 149,
   "id": "0e0319d3",
   "metadata": {},
   "outputs": [],
   "source": [
    "def mask_random_words(sentence, stop_words, biased_phrase, masked_result=0):\n",
    "    augmented_sentence = sentence\n",
    "    temp = \"\"\n",
    "    for _ in range(5):\n",
    "        not_masked =  True\n",
    "        for word in augmented_sentence.split(\" \"):\n",
    "            random_num = random.random()\n",
    "            if word not in stop_words and word not in biased_phrase and random_num <= 0.2 and not_masked:\n",
    "                temp += \"[MASK] \"\n",
    "                not_masked = False\n",
    "            else:\n",
    "                temp += word + \" \"\n",
    "        if \"[MASK]\" in temp:\n",
    "            result = model(temp)\n",
    "            temp = temp.replace(\"[MASK]\", result[masked_result]['token_str'])\n",
    "        augmented_sentence = temp[:-1]\n",
    "        temp = \"\"\n",
    "            \n",
    "    return augmented_sentence"
   ]
  },
  {
   "cell_type": "code",
   "execution_count": 104,
   "id": "8c0a1fa6",
   "metadata": {},
   "outputs": [
    {
     "name": "stdout",
     "output_type": "stream",
     "text": [
      "You're self-motivated and decisive, but willing to make changes with minimal grumbling when the client demands it.\n"
     ]
    },
    {
     "data": {
      "text/plain": [
       "\"You're strong and decisive, but willing to make changes with no hesitation when the client demands .\""
      ]
     },
     "execution_count": 104,
     "metadata": {},
     "output_type": "execute_result"
    }
   ],
   "source": [
    "print(sentence2)\n",
    "mask_random_words(sentence2, stop_words, \"decisive\")"
   ]
  },
  {
   "cell_type": "markdown",
   "id": "fe3791e0",
   "metadata": {},
   "source": [
    "### Use GPT-2 to finish the sentence for you"
   ]
  },
  {
   "cell_type": "code",
   "execution_count": 9,
   "id": "6138fd50",
   "metadata": {},
   "outputs": [
    {
     "data": {
      "application/vnd.jupyter.widget-view+json": {
       "model_id": "d29d0b3ba57e4f2d99c91f15e615ac0b",
       "version_major": 2,
       "version_minor": 0
      },
      "text/plain": [
       "Downloading:   0%|          | 0.00/665 [00:00<?, ?B/s]"
      ]
     },
     "metadata": {},
     "output_type": "display_data"
    },
    {
     "data": {
      "application/vnd.jupyter.widget-view+json": {
       "model_id": "9b2fd9250a134a0d89d88da9864e73bd",
       "version_major": 2,
       "version_minor": 0
      },
      "text/plain": [
       "Downloading:   0%|          | 0.00/523M [00:00<?, ?B/s]"
      ]
     },
     "metadata": {},
     "output_type": "display_data"
    },
    {
     "data": {
      "application/vnd.jupyter.widget-view+json": {
       "model_id": "e84ac234c9f542feb697a12055b1e291",
       "version_major": 2,
       "version_minor": 0
      },
      "text/plain": [
       "Downloading:   0%|          | 0.00/0.99M [00:00<?, ?B/s]"
      ]
     },
     "metadata": {},
     "output_type": "display_data"
    },
    {
     "data": {
      "application/vnd.jupyter.widget-view+json": {
       "model_id": "0b202a6c21e54e2d8441f43cd9671cc3",
       "version_major": 2,
       "version_minor": 0
      },
      "text/plain": [
       "Downloading:   0%|          | 0.00/446k [00:00<?, ?B/s]"
      ]
     },
     "metadata": {},
     "output_type": "display_data"
    },
    {
     "data": {
      "application/vnd.jupyter.widget-view+json": {
       "model_id": "64ac95b775e4436bbf9b4ae7b303651f",
       "version_major": 2,
       "version_minor": 0
      },
      "text/plain": [
       "Downloading:   0%|          | 0.00/1.29M [00:00<?, ?B/s]"
      ]
     },
     "metadata": {},
     "output_type": "display_data"
    }
   ],
   "source": [
    "generator = pipeline('text-generation', model='gpt2')\n",
    "set_seed(42)"
   ]
  },
  {
   "cell_type": "code",
   "execution_count": 49,
   "id": "66413ff7",
   "metadata": {},
   "outputs": [],
   "source": [
    "def finish_sentence(sentence, num_generations=5, max_length=25):\n",
    "    generated_sentences = []\n",
    "    temp_generations = generator(sentence, max_length=max_length, num_return_sequences=num_generations)\n",
    "    for generations in temp_generations:\n",
    "        temp = generations['generated_text']\n",
    "        temp = temp.split('.')[0]\n",
    "        temp = temp + '.'\n",
    "        generated_sentences.append(temp)\n",
    "    return generated_sentences"
   ]
  },
  {
   "cell_type": "code",
   "execution_count": 53,
   "id": "70971ac6",
   "metadata": {},
   "outputs": [
    {
     "name": "stderr",
     "output_type": "stream",
     "text": [
      "Setting `pad_token_id` to `eos_token_id`:50256 for open-end generation.\n"
     ]
    },
    {
     "data": {
      "text/plain": [
       "['We are looking for a young and driven candidate who can be an effective, independent voice in a number of regions,\" he said.',\n",
       " 'We are looking for a young and driven candidate who looks to move quickly, and speaks fluently; wants to get involved with.',\n",
       " 'We are looking for a young and driven candidate who will help us get closer to the political level and to get past difficult times.',\n",
       " 'We are looking for a young and driven candidate to carry the message.',\n",
       " 'We are looking for a young and driven candidate.']"
      ]
     },
     "execution_count": 53,
     "metadata": {},
     "output_type": "execute_result"
    }
   ],
   "source": [
    "finish_sentence(\"We are looking for a young and driven candidate\")"
   ]
  },
  {
   "cell_type": "markdown",
   "id": "a1d28eaf",
   "metadata": {},
   "source": [
    "### Use flashtext to replace words in sentence"
   ]
  },
  {
   "cell_type": "code",
   "execution_count": 100,
   "id": "3952c617",
   "metadata": {},
   "outputs": [],
   "source": [
    "processor = KeywordProcessor(case_sensitive = False)"
   ]
  },
  {
   "cell_type": "code",
   "execution_count": 98,
   "id": "a8354125",
   "metadata": {},
   "outputs": [
    {
     "name": "stdout",
     "output_type": "stream",
     "text": [
      "You're self-motivated and caring, but willing to make changes with minimal grumbling when the client demands it.\n"
     ]
    }
   ],
   "source": [
    "processor.add_keyword('decisive','caring')\n",
    "replaced = processor.replace_keywords(sentence2)\n",
    "print(replaced)"
   ]
  },
  {
   "cell_type": "markdown",
   "id": "bcea96de",
   "metadata": {},
   "source": [
    "### Augment Behavioural Bias Data"
   ]
  },
  {
   "cell_type": "code",
   "execution_count": 105,
   "id": "743bc6bc",
   "metadata": {},
   "outputs": [],
   "source": [
    "df_behavioural_bias = pd.read_csv(\"behavioural_bias_labeled_data.csv\")"
   ]
  },
  {
   "cell_type": "code",
   "execution_count": 110,
   "id": "0e42936d",
   "metadata": {},
   "outputs": [],
   "source": [
    "def is_sentence_biased(label):\n",
    "    if 'Behavioural Stereotypes' in label:\n",
    "        return True\n",
    "    return False\n",
    "\n",
    "df_behavioural_bias['is_biased'] = df_behavioural_bias['label'].map(lambda x:is_sentence_biased(x))"
   ]
  },
  {
   "cell_type": "code",
   "execution_count": 113,
   "id": "3d57fe9e",
   "metadata": {},
   "outputs": [],
   "source": [
    "to_augment = df_behavioural_bias.loc[df_behavioural_bias.is_biased == True]"
   ]
  },
  {
   "cell_type": "code",
   "execution_count": 160,
   "id": "cee1d3da",
   "metadata": {},
   "outputs": [
    {
     "name": "stdout",
     "output_type": "stream",
     "text": [
      "have a very aggressive development team and have a huge impact on the growth strategies used to become one of the cloud’s next great platforms.\n",
      "Join a small, aggressive marketing campaign and have a big impact on the company you need to become one of the cloud’s next great platforms.\n"
     ]
    }
   ],
   "source": [
    "# augment based on index from 0 to 208\n",
    "index = 208\n",
    "sentence_to_augment = to_augment['data'][index]\n",
    "sentence_to_augment_label = literal_eval(to_augment['label'][index])\n",
    "for i in range(2):\n",
    "    for value in sentence_to_augment_label:\n",
    "        temp_augmented = mask_random_words(sentence_to_augment, stop_words, sentence_to_augment[value[0]: value[1]], i)\n",
    "        print(temp_augmented)"
   ]
  },
  {
   "cell_type": "code",
   "execution_count": 179,
   "id": "7a6802fc",
   "metadata": {},
   "outputs": [],
   "source": [
    "# use masking to augment biased sentences in labeled data\n",
    "df_augmented_sentences = pd.DataFrame(columns=to_augment.columns)\n",
    "for index, row in to_augment.iterrows():\n",
    "    sentence_to_augment = row['data']\n",
    "    sentence_to_augment_label = literal_eval(row['label'])\n",
    "    for i in range(3):\n",
    "        for value in sentence_to_augment_label:\n",
    "            temp_augmented = mask_random_words(sentence_to_augment, stop_words, sentence_to_augment[value[0]: value[1]], i)\n",
    "            new_label = []\n",
    "            for label in sentence_to_augment_label:\n",
    "                if sentence_to_augment[label[0]: label[1]] in temp_augmented:\n",
    "                    find_old_bias = re.finditer(sentence_to_augment[label[0]: label[1]], temp_augmented)\n",
    "                    for match in find_old_bias:\n",
    "                        new_label.append([match.start(), match.end(), 'Behavioural Stereotypes'])\n",
    "            df_augmented_sentences = df_augmented_sentences.append({'data':temp_augmented, 'label': new_label}, ignore_index = True)"
   ]
  },
  {
   "cell_type": "code",
   "execution_count": 197,
   "id": "64c91685",
   "metadata": {},
   "outputs": [],
   "source": [
    "df_augmented_sentences['is_biased'] =  df_augmented_sentences['is_biased'].fillna('augmented')"
   ]
  },
  {
   "cell_type": "code",
   "execution_count": 203,
   "id": "47da6172",
   "metadata": {},
   "outputs": [],
   "source": [
    "frames = [df_augmented_sentences, df_behavioural_bias]\n",
    "merged_augmented_labeled = pd.concat(frames)"
   ]
  },
  {
   "cell_type": "code",
   "execution_count": 205,
   "id": "0069f8e9",
   "metadata": {},
   "outputs": [
    {
     "data": {
      "text/html": [
       "<div>\n",
       "<style scoped>\n",
       "    .dataframe tbody tr th:only-of-type {\n",
       "        vertical-align: middle;\n",
       "    }\n",
       "\n",
       "    .dataframe tbody tr th {\n",
       "        vertical-align: top;\n",
       "    }\n",
       "\n",
       "    .dataframe thead th {\n",
       "        text-align: right;\n",
       "    }\n",
       "</style>\n",
       "<table border=\"1\" class=\"dataframe\">\n",
       "  <thead>\n",
       "    <tr style=\"text-align: right;\">\n",
       "      <th></th>\n",
       "      <th>data</th>\n",
       "      <th>label</th>\n",
       "      <th>is_biased</th>\n",
       "    </tr>\n",
       "  </thead>\n",
       "  <tbody>\n",
       "    <tr>\n",
       "      <th>0</th>\n",
       "      <td>We're looking for a young and stubborn new rec...</td>\n",
       "      <td>[[30, 39, Behavioural Stereotypes]]</td>\n",
       "      <td>augmented</td>\n",
       "    </tr>\n",
       "    <tr>\n",
       "      <th>1</th>\n",
       "      <td>still looking for a talented and stubborn fash...</td>\n",
       "      <td>[[33, 42, Behavioural Stereotypes]]</td>\n",
       "      <td>augmented</td>\n",
       "    </tr>\n",
       "    <tr>\n",
       "      <th>2</th>\n",
       "      <td>and looking for a brave and stubborn new styli...</td>\n",
       "      <td>[[28, 37, Behavioural Stereotypes]]</td>\n",
       "      <td>augmented</td>\n",
       "    </tr>\n",
       "    <tr>\n",
       "      <th>3</th>\n",
       "      <td>always looking for a talented and self-confide...</td>\n",
       "      <td>[[34, 48, Behavioural Stereotypes]]</td>\n",
       "      <td>augmented</td>\n",
       "    </tr>\n",
       "    <tr>\n",
       "      <th>4</th>\n",
       "      <td>just waiting for a beautiful and self-confiden...</td>\n",
       "      <td>[[33, 47, Behavioural Stereotypes]]</td>\n",
       "      <td>augmented</td>\n",
       "    </tr>\n",
       "  </tbody>\n",
       "</table>\n",
       "</div>"
      ],
      "text/plain": [
       "                                                data  \\\n",
       "0  We're looking for a young and stubborn new rec...   \n",
       "1  still looking for a talented and stubborn fash...   \n",
       "2  and looking for a brave and stubborn new styli...   \n",
       "3  always looking for a talented and self-confide...   \n",
       "4  just waiting for a beautiful and self-confiden...   \n",
       "\n",
       "                                 label  is_biased  \n",
       "0  [[30, 39, Behavioural Stereotypes]]  augmented  \n",
       "1  [[33, 42, Behavioural Stereotypes]]  augmented  \n",
       "2  [[28, 37, Behavioural Stereotypes]]  augmented  \n",
       "3  [[34, 48, Behavioural Stereotypes]]  augmented  \n",
       "4  [[33, 47, Behavioural Stereotypes]]  augmented  "
      ]
     },
     "execution_count": 205,
     "metadata": {},
     "output_type": "execute_result"
    }
   ],
   "source": [
    "merged_augmented_labeled.loc[merged_augmented_labeled.is_biased != False].head()"
   ]
  },
  {
   "cell_type": "code",
   "execution_count": 223,
   "id": "4a0d1363",
   "metadata": {},
   "outputs": [],
   "source": [
    "merged_augmented_labeled.to_csv(\"merged_augmented_labeled.csv\", index=False)"
   ]
  },
  {
   "cell_type": "markdown",
   "id": "3aaaed3c",
   "metadata": {},
   "source": [
    "### Examples of masking augmentation\n",
    "Join a small, aggressive <b>management</b> team and have a big impact on the <b>business</b> strategies used to become one of the cloud’s next great platforms.\n",
    "\n",
    "Join a small, aggressive <b>marketing</b> team and have a big impact on the <b>growth</b> strategies used to become one of the cloud’s next great platforms.\n"
   ]
  },
  {
   "cell_type": "code",
   "execution_count": 224,
   "id": "a534438e",
   "metadata": {},
   "outputs": [
    {
     "data": {
      "text/html": [
       "<div>\n",
       "<style scoped>\n",
       "    .dataframe tbody tr th:only-of-type {\n",
       "        vertical-align: middle;\n",
       "    }\n",
       "\n",
       "    .dataframe tbody tr th {\n",
       "        vertical-align: top;\n",
       "    }\n",
       "\n",
       "    .dataframe thead th {\n",
       "        text-align: right;\n",
       "    }\n",
       "</style>\n",
       "<table border=\"1\" class=\"dataframe\">\n",
       "  <thead>\n",
       "    <tr style=\"text-align: right;\">\n",
       "      <th></th>\n",
       "      <th>data</th>\n",
       "      <th>label</th>\n",
       "      <th>is_biased</th>\n",
       "    </tr>\n",
       "  </thead>\n",
       "  <tbody>\n",
       "    <tr>\n",
       "      <th>3</th>\n",
       "      <td>always looking for a talented and self-confide...</td>\n",
       "      <td>[[34, 48, Behavioural Stereotypes]]</td>\n",
       "      <td>augmented</td>\n",
       "    </tr>\n",
       "    <tr>\n",
       "      <th>4</th>\n",
       "      <td>just waiting for a beautiful and self-confiden...</td>\n",
       "      <td>[[33, 47, Behavioural Stereotypes]]</td>\n",
       "      <td>augmented</td>\n",
       "    </tr>\n",
       "    <tr>\n",
       "      <th>5</th>\n",
       "      <td>We're looking for a talented and self-confiden...</td>\n",
       "      <td>[[33, 47, Behavioural Stereotypes]]</td>\n",
       "      <td>augmented</td>\n",
       "    </tr>\n",
       "    <tr>\n",
       "      <th>6</th>\n",
       "      <td>We're looking for a talented and self-sufficie...</td>\n",
       "      <td>[[33, 48, Behavioural Stereotypes]]</td>\n",
       "      <td>augmented</td>\n",
       "    </tr>\n",
       "    <tr>\n",
       "      <th>7</th>\n",
       "      <td>always looking for a talented and self-suffici...</td>\n",
       "      <td>[[34, 49, Behavioural Stereotypes]]</td>\n",
       "      <td>augmented</td>\n",
       "    </tr>\n",
       "    <tr>\n",
       "      <th>...</th>\n",
       "      <td>...</td>\n",
       "      <td>...</td>\n",
       "      <td>...</td>\n",
       "    </tr>\n",
       "    <tr>\n",
       "      <th>617</th>\n",
       "      <td>We have lots of ideas—some of them rather ambi...</td>\n",
       "      <td>[[42, 51, 'Non-biased']]</td>\n",
       "      <td>False</td>\n",
       "    </tr>\n",
       "    <tr>\n",
       "      <th>618</th>\n",
       "      <td>All communication will be treated confidentially.</td>\n",
       "      <td>[[34, 48, 'Non-biased']]</td>\n",
       "      <td>False</td>\n",
       "    </tr>\n",
       "    <tr>\n",
       "      <th>619</th>\n",
       "      <td>The role will be a confidant for the team and ...</td>\n",
       "      <td>[[19, 29, 'Non-biased'], [92, 102, 'Non-biased']]</td>\n",
       "      <td>False</td>\n",
       "    </tr>\n",
       "    <tr>\n",
       "      <th>620</th>\n",
       "      <td>You’ll do this by applying your skills and int...</td>\n",
       "      <td>[[98, 110, 'Non-biased'], [43, 53, 'Non-biased']]</td>\n",
       "      <td>False</td>\n",
       "    </tr>\n",
       "    <tr>\n",
       "      <th>621</th>\n",
       "      <td>Warmest Regards,Mr. Muhammed AhmadWork At Home...</td>\n",
       "      <td>[[0, 8, 'Non-biased']]</td>\n",
       "      <td>False</td>\n",
       "    </tr>\n",
       "  </tbody>\n",
       "</table>\n",
       "<p>1505 rows × 3 columns</p>\n",
       "</div>"
      ],
      "text/plain": [
       "                                                  data  \\\n",
       "3    always looking for a talented and self-confide...   \n",
       "4    just waiting for a beautiful and self-confiden...   \n",
       "5    We're looking for a talented and self-confiden...   \n",
       "6    We're looking for a talented and self-sufficie...   \n",
       "7    always looking for a talented and self-suffici...   \n",
       "..                                                 ...   \n",
       "617  We have lots of ideas—some of them rather ambi...   \n",
       "618  All communication will be treated confidentially.   \n",
       "619  The role will be a confidant for the team and ...   \n",
       "620  You’ll do this by applying your skills and int...   \n",
       "621  Warmest Regards,Mr. Muhammed AhmadWork At Home...   \n",
       "\n",
       "                                                 label  is_biased  \n",
       "3                  [[34, 48, Behavioural Stereotypes]]  augmented  \n",
       "4                  [[33, 47, Behavioural Stereotypes]]  augmented  \n",
       "5                  [[33, 47, Behavioural Stereotypes]]  augmented  \n",
       "6                  [[33, 48, Behavioural Stereotypes]]  augmented  \n",
       "7                  [[34, 49, Behavioural Stereotypes]]  augmented  \n",
       "..                                                 ...        ...  \n",
       "617                           [[42, 51, 'Non-biased']]      False  \n",
       "618                           [[34, 48, 'Non-biased']]      False  \n",
       "619  [[19, 29, 'Non-biased'], [92, 102, 'Non-biased']]      False  \n",
       "620  [[98, 110, 'Non-biased'], [43, 53, 'Non-biased']]      False  \n",
       "621                             [[0, 8, 'Non-biased']]      False  \n",
       "\n",
       "[1505 rows x 3 columns]"
      ]
     },
     "execution_count": 224,
     "metadata": {},
     "output_type": "execute_result"
    }
   ],
   "source": [
    "merged_augmented_labeled"
   ]
  },
  {
   "cell_type": "code",
   "execution_count": null,
   "id": "40943b15",
   "metadata": {},
   "outputs": [],
   "source": []
  }
 ],
 "metadata": {
  "kernelspec": {
   "display_name": "Python 3",
   "language": "python",
   "name": "python3"
  },
  "language_info": {
   "codemirror_mode": {
    "name": "ipython",
    "version": 3
   },
   "file_extension": ".py",
   "mimetype": "text/x-python",
   "name": "python",
   "nbconvert_exporter": "python",
   "pygments_lexer": "ipython3",
   "version": "3.8.4"
  }
 },
 "nbformat": 4,
 "nbformat_minor": 5
}
